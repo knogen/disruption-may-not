{
 "cells": [
  {
   "cell_type": "code",
   "execution_count": 1,
   "id": "8d4c9c8a-e5a5-475a-8a02-6295d846635b",
   "metadata": {},
   "outputs": [],
   "source": [
    "import csv"
   ]
  },
  {
   "cell_type": "code",
   "execution_count": 8,
   "id": "02320661-34b6-4c22-a12d-0bde47a52cfc",
   "metadata": {},
   "outputs": [],
   "source": [
    "\n",
    "def parse_values(values, row_size):\n",
    "    \"\"\"\n",
    "    Given a file handle and the raw values from a MySQL INSERT\n",
    "    statement, write the equivalent CSV to the file\n",
    "    \"\"\"\n",
    "    latest_row = []\n",
    "\n",
    "    reader = csv.reader([values], delimiter=',',\n",
    "                        doublequote=False,\n",
    "                        escapechar='\\\\',\n",
    "                        quotechar=\"'\",\n",
    "                        strict=True\n",
    "    )\n",
    "\n",
    "    # writer = csv.writer(outfile, quoting=csv.QUOTE_MINIMAL)\n",
    "    for reader_row in reader:\n",
    "        for column in reader_row:\n",
    "            # If our current string is empty...\n",
    "            if len(column) == 0 or column == 'NULL':\n",
    "                latest_row.append(chr(0))\n",
    "                continue\n",
    "            # If our string starts with an open paren\n",
    "            if column[0] == \"(\":\n",
    "                # If we've been filling out a row\n",
    "                if len(latest_row) > 0:\n",
    "                    # Check if the previous entry ended in\n",
    "                    # a close paren. If so, the row we've\n",
    "                    # been filling out has been COMPLETED\n",
    "                    # as:\n",
    "                    #    1) the previous entry ended in a )\n",
    "                    #    2) the current entry starts with a (\n",
    "                    if latest_row[-1][-1] == \")\" and len(latest_row) == row_size:\n",
    "                        # Remove the close paren.\n",
    "                        latest_row[-1] = latest_row[-1][:-1]\n",
    "                        # writer.writerow(latest_row)\n",
    "                        yield latest_row\n",
    "                        latest_row = []\n",
    "                # If we're beginning a new row, eliminate the\n",
    "                # opening parentheses.\n",
    "                if len(latest_row) == 0:\n",
    "                    column = column[1:]\n",
    "            # Add our column to the row we're working on.\n",
    "            latest_row.append(column)\n",
    "        # At the end of an INSERT statement, we'll\n",
    "        # have the semicolon.\n",
    "        # Make sure to remove the semicolon and\n",
    "        # the close paren.\n",
    "        if latest_row[-1][-2:] == \");\":\n",
    "            latest_row[-1] = latest_row[-1][:-2]\n",
    "            # writer.writerow(latest_row)\n",
    "            yield latest_row\n"
   ]
  },
  {
   "cell_type": "code",
   "execution_count": 9,
   "id": "f36cb5b5-59ae-47a9-b1a6-738d525ad292",
   "metadata": {},
   "outputs": [
    {
     "name": "stdout",
     "output_type": "stream",
     "text": [
      "['1934182', '1840年代发现的物质', 'STILBENE, (E)-\\n(E)-二苯基乙烯', '2021-08-01 12:27:55', 'Stilbene, (E)-', 'uppercase', 'page']\n",
      "['1934182', 'CS1德语来源_(de)', '(E)-二苯基乙烯', '2021-08-01 14:58:21', '\\x00', 'uppercase', 'page']\n",
      "['1934182', 'CS1法语来源_(fr)', '(E)-二苯基乙烯', '2021-08-01 14:58:21', '\\x00', 'uppercase', 'page']\n",
      "['1934182', '发光', 'STILBENE, (E)-\\n(E)-二苯基乙烯', '2012-04-05 08:33:13', 'Stilbene, (E)-', 'uppercase', 'page']\n",
      "['1934182', '含有內容需登入查看的頁面', '(E)-二苯基乙烯', '2022-04-12 11:00:06', '\\x00', 'uppercase', 'page']\n"
     ]
    }
   ],
   "source": [
    "value = \"(1934182,'1840年代发现的物质','STILBENE, (E)-\\n(E)-二苯基乙烯','2021-08-01 12:27:55','Stilbene, (E)-','uppercase','page'),(1934182,'CS1德语来源_(de)','(E)-二苯基乙烯','2021-08-01 14:58:21','','uppercase','page'),(1934182,'CS1法语来源_(fr)','(E)-二苯基乙烯','2021-08-01 14:58:21','','uppercase','page'),(1934182,'发光','STILBENE, (E)-\\n(E)-二苯基乙烯','2012-04-05 08:33:13','Stilbene, (E)-','uppercase','page'),(1934182,'含有內容需登入查看的頁面','(E)-二苯基乙烯','2022-04-12 11:00:06','','uppercase','page');\"\n",
    "for row in parse_values(value, 7):\n",
    "    print(row)"
   ]
  },
  {
   "cell_type": "code",
   "execution_count": 4,
   "id": "d9f4fdd0-cbdb-4c23-9bc5-1f136cd2f974",
   "metadata": {},
   "outputs": [
    {
     "name": "stdout",
     "output_type": "stream",
     "text": [
      "['1', '達拉斯', '27', '7', '0']\n",
      "['2', '科索沃行政区划', '10', '0', '0']\n",
      "['3', '期刊', '0', '0', '0']\n",
      "['4', '杂志', '38', '27', '0']\n",
      "['5', '科學小作品', '121', '12', '0']\n",
      "['6', '化石', '73', '11', '0']\n",
      "['7', '地质学', '177', '18', '0']\n",
      "['9', '1780年代', '36', '25', '0']\n",
      "['11', '香港模特兒', '2', '2', '0']\n",
      "['12', '中華民國總統', '22', '11', '0']\n"
     ]
    }
   ],
   "source": [
    "value = \"(1,'達拉斯',27,7,0),(2,'科索沃行政区划',10,0,0),(3,'期刊',0,0,0),(4,'杂志',38,27,0),(5,'科學小作品',121,12,0),(6,'化石',73,11,0),(7,'地质学',177,18,0),(9,'1780年代',36,25,0),(11,'香港模特兒',2,2,0),(12,'中華民國總統',22,11,0);\"\n",
    "for row in parse_values(value):\n",
    "    print(row)"
   ]
  },
  {
   "cell_type": "code",
   "execution_count": 7,
   "id": "3bbe93b8-03c5-4d6f-8489-d10db736a314",
   "metadata": {},
   "outputs": [
    {
     "name": "stdout",
     "output_type": "stream",
     "text": [
      "['(1934182', '1840年代发现的物质', 'STILBENE, (E)-\\n(E)-二苯基乙烯', '2021-08-01 12:27:55', 'Stilbene, (E)-', 'uppercase', 'page)', '(1934182', 'CS1德语来源_(de)', '(E)-二苯基乙烯', '2021-08-01 14:58:21', '', 'uppercase', 'page)', '(1934182', 'CS1法语来源_(fr)', '(E)-二苯基乙烯', '2021-08-01 14:58:21', '', 'uppercase', 'page)', '(1934182', '发光', 'STILBENE, (E)-\\n(E)-二苯基乙烯', '2012-04-05 08:33:13', 'Stilbene, (E)-', 'uppercase', 'page)', '(1934182', '含有內容需登入查看的頁面', '(E)-二苯基乙烯', '2022-04-12 11:00:06', '', 'uppercase', 'page);']\n"
     ]
    }
   ],
   "source": [
    "\n",
    "reader = csv.reader([value], delimiter=',',\n",
    "                    doublequote=False,\n",
    "                    escapechar='\\\\',\n",
    "                    quotechar=\"'\",\n",
    "                    strict=True\n",
    ")\n",
    "\n",
    "# writer = csv.writer(outfile, quoting=csv.QUOTE_MINIMAL)\n",
    "for reader_row in reader:\n",
    "    print(reader_row)"
   ]
  }
 ],
 "metadata": {
  "kernelspec": {
   "display_name": "Python 3 (ipykernel)",
   "language": "python",
   "name": "python3"
  },
  "language_info": {
   "codemirror_mode": {
    "name": "ipython",
    "version": 3
   },
   "file_extension": ".py",
   "mimetype": "text/x-python",
   "name": "python",
   "nbconvert_exporter": "python",
   "pygments_lexer": "ipython3",
   "version": "3.9.1"
  }
 },
 "nbformat": 4,
 "nbformat_minor": 5
}
